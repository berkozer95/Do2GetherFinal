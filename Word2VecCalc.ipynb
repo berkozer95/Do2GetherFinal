{
 "cells": [
  {
   "cell_type": "code",
   "execution_count": 1,
   "metadata": {
    "collapsed": true
   },
   "outputs": [],
   "source": [
    "import os\n",
    "import glob\n",
    "import gensim,logging\n",
    "import Cython\n",
    "import numpy as numpy\n",
    "from gensim.models import Word2Vec\n",
    "from gensim.models.word2vec import Text8Corpus\n",
    "from time import time\n",
    "start = time()"
   ]
  },
  {
   "cell_type": "code",
   "execution_count": 2,
   "metadata": {
    "collapsed": true
   },
   "outputs": [],
   "source": [
    "logging.basicConfig(format='%(asctime)s : %(levelname)s : %(message)s', level=logging.INFO)"
   ]
  },
  {
   "cell_type": "code",
   "execution_count": 3,
   "metadata": {
    "collapsed": false
   },
   "outputs": [
    {
     "name": "stderr",
     "output_type": "stream",
     "text": [
      "2017-05-29 15:40:47,243 : INFO : loading projection weights from /Users/berkozer/Downloads/GoogleNews-vectors-negative300.bin\n",
      "2017-05-29 15:41:40,118 : INFO : loaded (3000000, 300) matrix from /Users/berkozer/Downloads/GoogleNews-vectors-negative300.bin\n"
     ]
    },
    {
     "name": "stdout",
     "output_type": "stream",
     "text": [
      "Cell took 52.89 seconds to run.\n"
     ]
    }
   ],
   "source": [
    "# Load Google's pre-trained Word2Vec model.\n",
    "model = gensim.models.KeyedVectors.load_word2vec_format('/Users/berkozer/Downloads/GoogleNews-vectors-negative300.bin', binary=True)  \n",
    "print('Cell took %.2f seconds to run.' % (time() - start))"
   ]
  },
  {
   "cell_type": "code",
   "execution_count": 4,
   "metadata": {
    "collapsed": false
   },
   "outputs": [
    {
     "name": "stdout",
     "output_type": "stream",
     "text": [
      "Does it include the stop words like 'a', 'and', 'the'? 0 0 1\n"
     ]
    }
   ],
   "source": [
    "print(\"Does it include the stop words like \\'a\\', \\'and\\', \\'the\\'? %d %d %d\" % ('a' in model.vocab, 'and' in model.vocab, 'the' in model.vocab))"
   ]
  },
  {
   "cell_type": "code",
   "execution_count": 5,
   "metadata": {
    "collapsed": true
   },
   "outputs": [],
   "source": [
    "vocab = model.vocab.keys()"
   ]
  },
  {
   "cell_type": "code",
   "execution_count": 6,
   "metadata": {
    "collapsed": false
   },
   "outputs": [],
   "source": [
    "fileNum = 1\n",
    "\n",
    "wordsInVocab = len(vocab)\n",
    "wordsPerFile = int(100E3)"
   ]
  },
  {
   "cell_type": "code",
   "execution_count": null,
   "metadata": {
    "collapsed": true
   },
   "outputs": [],
   "source": [
    "with open('/Users/berkozer/Desktop/CurrentHobbies/CurrentUser.txt','r') as f: currentUser = [line.rstrip('\\n') for line in f]\n",
    "\n",
    "file =  open('/Users/berkozer/Desktop/HobbyCount/Count.txt','r')\n",
    "count = int(file.readline())\n",
    "\n",
    "score = 0\n",
    "result = 0\n",
    "calc = 0\n",
    "\n",
    "for i in range(count):\n",
    "    with open('/Users/berkozer/Desktop/Hobbies/User'+str(i)+'.txt') as f: hobbies = [line.rstrip('\\n') for line in f]\n",
    "\n",
    "    calc = 0\n",
    "    score = 0\n",
    "    result = 0\n",
    "    for j in range(len(hobbies)):\n",
    "        for k in range(len(currentUser)):\n",
    "            try:\n",
    "                score = model.similarity(hobbies[j],currentUser[k])\n",
    "                calc = calc + score\n",
    "            except:\n",
    "                print('word not found in vocabulary')\n",
    "        calc = calc/len(currentUser)\n",
    "        result = result + calc \n",
    "        calc = 0\n",
    "    \n",
    "    f1 = open('/Users/berkozer/Desktop/Hobbies/User'+str(i)+'.txt', \"w\")\n",
    "    f1.write(str(result/(len(hobbies))))\n",
    "    f1.close()\n",
    "\n"
   ]
  }
 ],
 "metadata": {
  "kernelspec": {
   "display_name": "Python [default]",
   "language": "python",
   "name": "python3"
  },
  "language_info": {
   "codemirror_mode": {
    "name": "ipython",
    "version": 3
   },
   "file_extension": ".py",
   "mimetype": "text/x-python",
   "name": "python",
   "nbconvert_exporter": "python",
   "pygments_lexer": "ipython3",
   "version": "3.5.2"
  }
 },
 "nbformat": 4,
 "nbformat_minor": 2
}
